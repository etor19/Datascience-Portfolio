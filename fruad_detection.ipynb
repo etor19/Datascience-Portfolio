{
 "cells": [
  {
   "cell_type": "markdown",
   "id": "391db0d1",
   "metadata": {},
   "source": [
    "Credit Card Fraud Detection using Scikit-Learn and Snap ML"
   ]
  },
  {
   "cell_type": "code",
   "execution_count": 1,
   "id": "678cc8c2",
   "metadata": {
    "scrolled": true
   },
   "outputs": [],
   "source": [
    "#!pip install snapml"
   ]
  },
  {
   "cell_type": "code",
   "execution_count": 1,
   "id": "4ff9e8ec",
   "metadata": {},
   "outputs": [],
   "source": [
    "import warnings\n",
    "warnings.filterwarnings('ignore')\n",
    "\n",
    "# from __future__ import print_function\n",
    "import numpy as np\n",
    "import pandas as pd\n",
    "import matplotlib.pyplot as plt\n",
    "%matplotlib inline\n",
    "\n",
    "from sklearn.model_selection import train_test_split\n",
    "from sklearn.preprocessing import normalize, StandardScaler\n",
    "from sklearn.utils.class_weight import compute_sample_weight\n",
    "from sklearn.metrics import roc_auc_score\n",
    "import time\n",
    "import gc, sys"
   ]
  },
  {
   "cell_type": "code",
   "execution_count": 2,
   "id": "0f074b13",
   "metadata": {},
   "outputs": [],
   "source": [
    "df = pd.read_csv('fraudTrain.csv')"
   ]
  },
  {
   "cell_type": "code",
   "execution_count": 4,
   "id": "215635ca",
   "metadata": {},
   "outputs": [
    {
     "data": {
      "text/plain": [
       "(1296675, 23)"
      ]
     },
     "execution_count": 4,
     "metadata": {},
     "output_type": "execute_result"
    }
   ],
   "source": [
    "df.shape"
   ]
  },
  {
   "cell_type": "code",
   "execution_count": 3,
   "id": "78745e0e",
   "metadata": {
    "scrolled": true
   },
   "outputs": [
    {
     "name": "stdout",
     "output_type": "stream",
     "text": [
      "1296675 observations can be seen in this dataset\n",
      "23 variables can be found in this data set\n"
     ]
    },
    {
     "data": {
      "text/html": [
       "<div>\n",
       "<style scoped>\n",
       "    .dataframe tbody tr th:only-of-type {\n",
       "        vertical-align: middle;\n",
       "    }\n",
       "\n",
       "    .dataframe tbody tr th {\n",
       "        vertical-align: top;\n",
       "    }\n",
       "\n",
       "    .dataframe thead th {\n",
       "        text-align: right;\n",
       "    }\n",
       "</style>\n",
       "<table border=\"1\" class=\"dataframe\">\n",
       "  <thead>\n",
       "    <tr style=\"text-align: right;\">\n",
       "      <th></th>\n",
       "      <th>Unnamed: 0</th>\n",
       "      <th>trans_date_trans_time</th>\n",
       "      <th>cc_num</th>\n",
       "      <th>merchant</th>\n",
       "      <th>category</th>\n",
       "      <th>amt</th>\n",
       "      <th>first</th>\n",
       "      <th>last</th>\n",
       "      <th>gender</th>\n",
       "      <th>street</th>\n",
       "      <th>...</th>\n",
       "      <th>lat</th>\n",
       "      <th>long</th>\n",
       "      <th>city_pop</th>\n",
       "      <th>job</th>\n",
       "      <th>dob</th>\n",
       "      <th>trans_num</th>\n",
       "      <th>unix_time</th>\n",
       "      <th>merch_lat</th>\n",
       "      <th>merch_long</th>\n",
       "      <th>is_fraud</th>\n",
       "    </tr>\n",
       "  </thead>\n",
       "  <tbody>\n",
       "    <tr>\n",
       "      <th>0</th>\n",
       "      <td>0</td>\n",
       "      <td>2019-01-01 00:00:18</td>\n",
       "      <td>2703186189652095</td>\n",
       "      <td>fraud_Rippin, Kub and Mann</td>\n",
       "      <td>misc_net</td>\n",
       "      <td>4.97</td>\n",
       "      <td>Jennifer</td>\n",
       "      <td>Banks</td>\n",
       "      <td>F</td>\n",
       "      <td>561 Perry Cove</td>\n",
       "      <td>...</td>\n",
       "      <td>36.0788</td>\n",
       "      <td>-81.1781</td>\n",
       "      <td>3495</td>\n",
       "      <td>Psychologist, counselling</td>\n",
       "      <td>1988-03-09</td>\n",
       "      <td>0b242abb623afc578575680df30655b9</td>\n",
       "      <td>1325376018</td>\n",
       "      <td>36.011293</td>\n",
       "      <td>-82.048315</td>\n",
       "      <td>0</td>\n",
       "    </tr>\n",
       "    <tr>\n",
       "      <th>1</th>\n",
       "      <td>1</td>\n",
       "      <td>2019-01-01 00:00:44</td>\n",
       "      <td>630423337322</td>\n",
       "      <td>fraud_Heller, Gutmann and Zieme</td>\n",
       "      <td>grocery_pos</td>\n",
       "      <td>107.23</td>\n",
       "      <td>Stephanie</td>\n",
       "      <td>Gill</td>\n",
       "      <td>F</td>\n",
       "      <td>43039 Riley Greens Suite 393</td>\n",
       "      <td>...</td>\n",
       "      <td>48.8878</td>\n",
       "      <td>-118.2105</td>\n",
       "      <td>149</td>\n",
       "      <td>Special educational needs teacher</td>\n",
       "      <td>1978-06-21</td>\n",
       "      <td>1f76529f8574734946361c461b024d99</td>\n",
       "      <td>1325376044</td>\n",
       "      <td>49.159047</td>\n",
       "      <td>-118.186462</td>\n",
       "      <td>0</td>\n",
       "    </tr>\n",
       "    <tr>\n",
       "      <th>2</th>\n",
       "      <td>2</td>\n",
       "      <td>2019-01-01 00:00:51</td>\n",
       "      <td>38859492057661</td>\n",
       "      <td>fraud_Lind-Buckridge</td>\n",
       "      <td>entertainment</td>\n",
       "      <td>220.11</td>\n",
       "      <td>Edward</td>\n",
       "      <td>Sanchez</td>\n",
       "      <td>M</td>\n",
       "      <td>594 White Dale Suite 530</td>\n",
       "      <td>...</td>\n",
       "      <td>42.1808</td>\n",
       "      <td>-112.2620</td>\n",
       "      <td>4154</td>\n",
       "      <td>Nature conservation officer</td>\n",
       "      <td>1962-01-19</td>\n",
       "      <td>a1a22d70485983eac12b5b88dad1cf95</td>\n",
       "      <td>1325376051</td>\n",
       "      <td>43.150704</td>\n",
       "      <td>-112.154481</td>\n",
       "      <td>0</td>\n",
       "    </tr>\n",
       "    <tr>\n",
       "      <th>3</th>\n",
       "      <td>3</td>\n",
       "      <td>2019-01-01 00:01:16</td>\n",
       "      <td>3534093764340240</td>\n",
       "      <td>fraud_Kutch, Hermiston and Farrell</td>\n",
       "      <td>gas_transport</td>\n",
       "      <td>45.00</td>\n",
       "      <td>Jeremy</td>\n",
       "      <td>White</td>\n",
       "      <td>M</td>\n",
       "      <td>9443 Cynthia Court Apt. 038</td>\n",
       "      <td>...</td>\n",
       "      <td>46.2306</td>\n",
       "      <td>-112.1138</td>\n",
       "      <td>1939</td>\n",
       "      <td>Patent attorney</td>\n",
       "      <td>1967-01-12</td>\n",
       "      <td>6b849c168bdad6f867558c3793159a81</td>\n",
       "      <td>1325376076</td>\n",
       "      <td>47.034331</td>\n",
       "      <td>-112.561071</td>\n",
       "      <td>0</td>\n",
       "    </tr>\n",
       "    <tr>\n",
       "      <th>4</th>\n",
       "      <td>4</td>\n",
       "      <td>2019-01-01 00:03:06</td>\n",
       "      <td>375534208663984</td>\n",
       "      <td>fraud_Keeling-Crist</td>\n",
       "      <td>misc_pos</td>\n",
       "      <td>41.96</td>\n",
       "      <td>Tyler</td>\n",
       "      <td>Garcia</td>\n",
       "      <td>M</td>\n",
       "      <td>408 Bradley Rest</td>\n",
       "      <td>...</td>\n",
       "      <td>38.4207</td>\n",
       "      <td>-79.4629</td>\n",
       "      <td>99</td>\n",
       "      <td>Dance movement psychotherapist</td>\n",
       "      <td>1986-03-28</td>\n",
       "      <td>a41d7549acf90789359a9aa5346dcb46</td>\n",
       "      <td>1325376186</td>\n",
       "      <td>38.674999</td>\n",
       "      <td>-78.632459</td>\n",
       "      <td>0</td>\n",
       "    </tr>\n",
       "  </tbody>\n",
       "</table>\n",
       "<p>5 rows × 23 columns</p>\n",
       "</div>"
      ],
      "text/plain": [
       "   Unnamed: 0 trans_date_trans_time            cc_num  \\\n",
       "0           0   2019-01-01 00:00:18  2703186189652095   \n",
       "1           1   2019-01-01 00:00:44      630423337322   \n",
       "2           2   2019-01-01 00:00:51    38859492057661   \n",
       "3           3   2019-01-01 00:01:16  3534093764340240   \n",
       "4           4   2019-01-01 00:03:06   375534208663984   \n",
       "\n",
       "                             merchant       category     amt      first  \\\n",
       "0          fraud_Rippin, Kub and Mann       misc_net    4.97   Jennifer   \n",
       "1     fraud_Heller, Gutmann and Zieme    grocery_pos  107.23  Stephanie   \n",
       "2                fraud_Lind-Buckridge  entertainment  220.11     Edward   \n",
       "3  fraud_Kutch, Hermiston and Farrell  gas_transport   45.00     Jeremy   \n",
       "4                 fraud_Keeling-Crist       misc_pos   41.96      Tyler   \n",
       "\n",
       "      last gender                        street  ...      lat      long  \\\n",
       "0    Banks      F                561 Perry Cove  ...  36.0788  -81.1781   \n",
       "1     Gill      F  43039 Riley Greens Suite 393  ...  48.8878 -118.2105   \n",
       "2  Sanchez      M      594 White Dale Suite 530  ...  42.1808 -112.2620   \n",
       "3    White      M   9443 Cynthia Court Apt. 038  ...  46.2306 -112.1138   \n",
       "4   Garcia      M              408 Bradley Rest  ...  38.4207  -79.4629   \n",
       "\n",
       "   city_pop                                job         dob  \\\n",
       "0      3495          Psychologist, counselling  1988-03-09   \n",
       "1       149  Special educational needs teacher  1978-06-21   \n",
       "2      4154        Nature conservation officer  1962-01-19   \n",
       "3      1939                    Patent attorney  1967-01-12   \n",
       "4        99     Dance movement psychotherapist  1986-03-28   \n",
       "\n",
       "                          trans_num   unix_time  merch_lat  merch_long  \\\n",
       "0  0b242abb623afc578575680df30655b9  1325376018  36.011293  -82.048315   \n",
       "1  1f76529f8574734946361c461b024d99  1325376044  49.159047 -118.186462   \n",
       "2  a1a22d70485983eac12b5b88dad1cf95  1325376051  43.150704 -112.154481   \n",
       "3  6b849c168bdad6f867558c3793159a81  1325376076  47.034331 -112.561071   \n",
       "4  a41d7549acf90789359a9aa5346dcb46  1325376186  38.674999  -78.632459   \n",
       "\n",
       "   is_fraud  \n",
       "0         0  \n",
       "1         0  \n",
       "2         0  \n",
       "3         0  \n",
       "4         0  \n",
       "\n",
       "[5 rows x 23 columns]"
      ]
     },
     "execution_count": 3,
     "metadata": {},
     "output_type": "execute_result"
    }
   ],
   "source": [
    "print(str(len(df)) +' observations can be seen in this dataset')\n",
    "print(str(len(df.columns)) + ' variables can be found in this data set')\n",
    "df.head()"
   ]
  },
  {
   "cell_type": "code",
   "execution_count": 6,
   "id": "81fb014e",
   "metadata": {
    "scrolled": true
   },
   "outputs": [
    {
     "data": {
      "text/plain": [
       "Index(['Unnamed: 0', 'trans_date_trans_time', 'cc_num', 'merchant', 'category',\n",
       "       'amt', 'first', 'last', 'gender', 'street', 'city', 'state', 'zip',\n",
       "       'lat', 'long', 'city_pop', 'job', 'dob', 'trans_num', 'unix_time',\n",
       "       'merch_lat', 'merch_long', 'is_fraud'],\n",
       "      dtype='object')"
      ]
     },
     "execution_count": 6,
     "metadata": {},
     "output_type": "execute_result"
    }
   ],
   "source": [
    "df.columns"
   ]
  },
  {
   "cell_type": "code",
   "execution_count": 6,
   "id": "a256df68",
   "metadata": {},
   "outputs": [],
   "source": [
    "#sns.regplot(x= 'amt', y='city' , data= df)\n",
    "#plt.show()\n",
    "import seaborn as sns        "
   ]
  },
  {
   "cell_type": "code",
   "execution_count": 8,
   "id": "38679168",
   "metadata": {
    "scrolled": true
   },
   "outputs": [
    {
     "data": {
      "text/plain": [
       "TX    94876\n",
       "NY    83501\n",
       "PA    79847\n",
       "CA    56360\n",
       "OH    46480\n",
       "MI    46154\n",
       "IL    43252\n",
       "FL    42671\n",
       "AL    40989\n",
       "MO    38403\n",
       "MN    31714\n",
       "AR    31127\n",
       "NC    30266\n",
       "WI    29368\n",
       "VA    29250\n",
       "SC    29190\n",
       "KY    28475\n",
       "IN    27580\n",
       "IA    26985\n",
       "OK    26671\n",
       "MD    26193\n",
       "GA    26063\n",
       "WV    25691\n",
       "NJ    24603\n",
       "NE    24168\n",
       "KS    22996\n",
       "MS    21188\n",
       "LA    20965\n",
       "WY    19322\n",
       "WA    18924\n",
       "OR    18597\n",
       "TN    17554\n",
       "ME    16505\n",
       "NM    16407\n",
       "ND    14786\n",
       "CO    13880\n",
       "MA    12376\n",
       "SD    12324\n",
       "VT    11768\n",
       "MT    11754\n",
       "AZ    10770\n",
       "UT    10699\n",
       "NH     8278\n",
       "CT     7702\n",
       "NV     5607\n",
       "ID     5545\n",
       "DC     3613\n",
       "HI     2559\n",
       "AK     2120\n",
       "RI      550\n",
       "DE        9\n",
       "Name: state, dtype: int64"
      ]
     },
     "execution_count": 8,
     "metadata": {},
     "output_type": "execute_result"
    }
   ],
   "source": [
    "df.state.value_counts()"
   ]
  },
  {
   "cell_type": "code",
   "execution_count": 7,
   "id": "50fb4f62",
   "metadata": {
    "scrolled": true
   },
   "outputs": [
    {
     "data": {
      "image/png": "[encoded data removed]",
      "text/plain": [
       "<Figure size 2000x1000 with 1 Axes>"
      ]
     },
     "metadata": {},
     "output_type": "display_data"
    }
   ],
   "source": [
    "plt.figure(figsize = (20,10))\n",
    "sns.countplot(x= 'state', data= df)\n",
    "plt.xticks(rotation = 90)\n",
    "plt.show()"
   ]
  },
  {
   "cell_type": "code",
   "execution_count": null,
   "id": "f970474a",
   "metadata": {},
   "outputs": [],
   "source": [
    "df.is_fraud.value_counts()"
   ]
  },
  {
   "cell_type": "code",
   "execution_count": 8,
   "id": "27c8a3e5",
   "metadata": {
    "scrolled": true
   },
   "outputs": [
    {
     "name": "stdout",
     "output_type": "stream",
     "text": [
      "[0 1]\n"
     ]
    }
   ],
   "source": [
    "labels = df.is_fraud.unique()\n",
    "print(labels)"
   ]
  },
  {
   "cell_type": "code",
   "execution_count": 9,
   "id": "0e328688",
   "metadata": {},
   "outputs": [
    {
     "data": {
      "text/plain": [
       "array([1289169,    7506], dtype=int64)"
      ]
     },
     "execution_count": 9,
     "metadata": {},
     "output_type": "execute_result"
    }
   ],
   "source": [
    "sizes = df.is_fraud.value_counts().values\n",
    "sizes"
   ]
  },
  {
   "cell_type": "markdown",
   "id": "323cc727",
   "metadata": {},
   "source": [
    "As shown above, the Class variable has two values:\n",
    "\n",
    "0 (the credit card transaction is legitimate)\n",
    "1 (the credit card transaction is fraudulent)\n",
    "Thus, you need to model a binary classification problem. Moreover, the dataset is highly unbalanced, the target variable classes are not represented equally. This case requires special attention when training or when evaluating the quality of a model. One way of handing this case at training time is to bias the model to pay more attention to the samples in the minority class. The models under the current study will be configured to take into account the class weights of the samples at train/fit time."
   ]
  },
  {
   "cell_type": "code",
   "execution_count": null,
   "id": "998b81ea",
   "metadata": {
    "scrolled": true
   },
   "outputs": [],
   "source": [
    "print('minimum amount value is ', np.min(df['amt'].values))\n",
    "print('the maximum amount value is ', np.max(df['amt'].values))\n",
    "print('the 90% of the transaction have an amount less or euqall to', np.percentile(df.amt.values, 90))"
   ]
  },
  {
   "cell_type": "code",
   "execution_count": null,
   "id": "ab8ca243",
   "metadata": {},
   "outputs": [],
   "source": [
    "gend = df.gender.value_counts()\n",
    "percent_female = gend[0]/(gend[0]+gend[1])*100\n",
    "percent_male = gend[1]/(gend[0]+gend[1])*100\n",
    "\n",
    "print('The percentage of female transaction is' , round(percent_female,3))\n",
    "print('The percentage of male transaction is ', round(percent_male,3))\n",
    "print('The transaction of females is ' ,round(percent_female-percent_male,3) ,'more')"
   ]
  },
  {
   "cell_type": "code",
   "execution_count": 10,
   "id": "0e322069",
   "metadata": {},
   "outputs": [
    {
     "data": {
      "image/png": "[encoded data removed]",
      "text/plain": [
       "<Figure size 640x480 with 1 Axes>"
      ]
     },
     "metadata": {},
     "output_type": "display_data"
    }
   ],
   "source": [
    "sex = df.gender.unique()\n",
    "number = df.gender.value_counts().values\n",
    "fig,ax = plt.subplots()\n",
    "ax.pie(number , labels =sex ,autopct = '%1.3f%%' )\n",
    "plt.show()"
   ]
  },
  {
   "cell_type": "markdown",
   "id": "52485b09",
   "metadata": {},
   "source": [
    "some basic deductions from this results can be\n",
    "\n",
    "1.the dataset contains more transactions by female than males, as the percentage of female transactions is higher than the percentage of male transactions\n",
    "2.There may be diffrences in the spending habits or patterns between gender, as the percentages are not equall.\n",
    "3.Females are targeted more often than males or the males are more likely to report fruadulent activity.(we will need further analysis to detect that )\n",
    "4.The proportion of female transactions is significantly higher than the proportion of male.However, we cannot confer causation\n"
   ]
  },
  {
   "cell_type": "code",
   "execution_count": null,
   "id": "610ecdbb",
   "metadata": {},
   "outputs": [],
   "source": [
    "outcome = df.is_fraud.value_counts()\n",
    "not_fraud = (outcome[0]/(outcome[0]+ outcome[1]))*100\n",
    "fraud = (outcome[1]/(outcome[0]+ outcome[1]))*100\n",
    "percent_fraud = (not_fraud - fraud)\n",
    "\n",
    "print('The percentage of transactions that are not fruadulent is about ', round(not_fraud, 3))\n",
    "print('The percentage of transactions that are considered fruadulent is about ', round(fraud, 3))\n",
    "print('About', round(percent_fraud,3),'of the dataset is considered fruadulent free transactions')"
   ]
  },
  {
   "cell_type": "code",
   "execution_count": 11,
   "id": "4abdfbce",
   "metadata": {},
   "outputs": [
    {
     "data": {
      "image/png": "[encoded data removed]",
      "text/plain": [
       "<Figure size 640x480 with 1 Axes>"
      ]
     },
     "metadata": {},
     "output_type": "display_data"
    }
   ],
   "source": [
    "labels = df.is_fraud.unique()\n",
    "size = df.is_fraud.value_counts().values\n",
    "size\n",
    "\n",
    "fig,ax = plt.subplots()\n",
    "ax.pie(size, labels = labels, autopct = '%1.3f%%')\n",
    "ax.set_title('Value counts of the Outcomes')\n",
    "plt.show()"
   ]
  },
  {
   "cell_type": "markdown",
   "id": "2cdda01d",
   "metadata": {},
   "source": [
    "**bold text**### DEDUCTIONS \n",
    "1. It can be observed from the dataset that vast majority of the transactions are not fraudulent with abbout 99.143% of transactions condisdered non-fraudulent. In other words, this dataset contains a relatively small number of fraudulent transactions overall.\n",
    "2. Since there is about 0.846% of fraudulent transactions recorded,there is still a risk of credit card being considered fraudulent.\n",
    "3. This also shows that the data is highly unbalanced hence various techniques should be used and appraoched with caution."
   ]
  },
  {
   "cell_type": "code",
   "execution_count": null,
   "id": "48b6906d",
   "metadata": {},
   "outputs": [],
   "source": [
    " import seaborn as sns\n",
    " sex_transaction = df.gender.value_counts()\n",
    " print(sex_transaction)"
   ]
  },
  {
   "cell_type": "code",
   "execution_count": null,
   "id": "3400b00b",
   "metadata": {},
   "outputs": [],
   "source": [
    "print(np.percentile(df.amt, 90))"
   ]
  },
  {
   "cell_type": "markdown",
   "id": "f917aeba",
   "metadata": {},
   "source": [
    "#Observations \n",
    "1. The distribution of the amount involved in the transaction is not systematic, hence making the dataset skewed\n",
    "2. There is a significant number of high value transactions in the dataset hence the 90th percentile value will not be a good representation of the transaction amount in the dataset since there are more higher transaction amounts.\n"
   ]
  },
  {
   "cell_type": "code",
   "execution_count": null,
   "id": "160d3d7c",
   "metadata": {},
   "outputs": [],
   "source": [
    "correlation = df.corr()\n",
    "correlation"
   ]
  },
  {
   "cell_type": "code",
   "execution_count": null,
   "id": "1d1e6cd8",
   "metadata": {},
   "outputs": [],
   "source": [
    "plt.figure(figsize = (20,20))\n",
    "sns.heatmap(correlation, annot =True)\n",
    "plt.title('Feature Corrleations')\n",
    "plt.show()\n",
    "\n"
   ]
  },
  {
   "cell_type": "markdown",
   "id": "2599a2b4",
   "metadata": {},
   "source": [
    "####Feature engineeering \n",
    "we will create new features in the dataset so we can improve the performance of the model\n",
    "1. we will add time based features. where we belief fraudulent transactions can occur at certian times or days of the week\n",
    "2. transaction amount features where fraudlent transactions can occur at certian amounts. some amounts can be flagged at certain thresholds\n",
    "3. card related features where some cards can be flagged as red alerts.\n",
    "4. Geographical features too can be added to the dataset, where fraudulent transactions can occur from certian locations \n"
   ]
  },
  {
   "cell_type": "code",
   "execution_count": null,
   "id": "07351184",
   "metadata": {},
   "outputs": [],
   "source": [
    "df['trans_date_trans_time'] = pd.to_datetime(df['trans_date_trans_time'])\n",
    "df['date'] = df['trans_date_trans_time'].dt.date\n",
    "df['time'] = df['trans_date_trans_time'].dt.time\n",
    "df['amount_log'] = np.log(df['amt'] + 0.01)\n",
    "df['mean_amount'] = (df['amt']) - (df['amt'].mean())\n"
   ]
  },
  {
   "cell_type": "code",
   "execution_count": null,
   "id": "616a992b",
   "metadata": {},
   "outputs": [],
   "source": [
    "df['count_cards']= df.groupby('cc_num')['cc_num'].transform('count')"
   ]
  },
  {
   "cell_type": "code",
   "execution_count": null,
   "id": "decc2d7c",
   "metadata": {},
   "outputs": [],
   "source": [
    "df['location'] = ((df['merch_lat'] - df['lat'])**2 + (df['merch_long'] - df['long'])**2)*0.5\n",
    "\n",
    "df['location_transaction'] = df.groupby(['merch_lat', 'merch_long'])['merch_lat'].transform('count')\n",
    "\n",
    "df.groupby(['merch_lat', 'merch_long'])['merch_lat'].transform('count')"
   ]
  },
  {
   "cell_type": "code",
   "execution_count": null,
   "id": "ce15bfd5",
   "metadata": {},
   "outputs": [],
   "source": [
    "featured_data = df.drop(['date', 'dob','trans_date_trans_time','first', 'last', 'gender', 'city', 'state', 'zip','amt','category','amount_log','merch_lat', 'merch_long','lat', 'long'], axis = 1)"
   ]
  },
  {
   "cell_type": "code",
   "execution_count": null,
   "id": "3f1452b5",
   "metadata": {
    "scrolled": true
   },
   "outputs": [],
   "source": [
    "corr = featured_data.corr()\n",
    "corr"
   ]
  },
  {
   "cell_type": "code",
   "execution_count": null,
   "id": "545f1ae0",
   "metadata": {},
   "outputs": [],
   "source": [
    "corr['is_fraud']"
   ]
  },
  {
   "cell_type": "code",
   "execution_count": null,
   "id": "dba3d4b7",
   "metadata": {},
   "outputs": [],
   "source": [
    "plt.figure(figsize = (20,10))\n",
    "sns.heatmap(corr, annot =True)\n",
    "plt.show()"
   ]
  },
  {
   "cell_type": "markdown",
   "id": "06971a30",
   "metadata": {},
   "source": [
    "### Data Preprocessing\n",
    "Normalising the dataset to prevent it from being biased. the mean amount values in the data set has a much larger range of values than other feature and it can dominate the learning process of the algorithm leading to a biased prediction."
   ]
  },
  {
   "cell_type": "code",
   "execution_count": null,
   "id": "1847c17d",
   "metadata": {},
   "outputs": [],
   "source": [
    "x = featured_data.drop('is_fraud', axis = 1)\n",
    "y = featured_data['is_fraud']\n",
    "\n",
    "print('the shape of x is', x.shape )\n",
    "print ('the shape of y is',y.shape)\n",
    "print(y.head(2))\n",
    "featured_data.columns"
   ]
  },
  {
   "cell_type": "code",
   "execution_count": null,
   "id": "9c5b2b11",
   "metadata": {},
   "outputs": [],
   "source": [
    "sc = StandardScaler()\n",
    "new_x = sc.fit_transform(x.select_dtypes(include = ['float64','int64']))\n",
    "print(new_x.shape ,y.shape)"
   ]
  },
  {
   "cell_type": "markdown",
   "id": "0f3f2d8f",
   "metadata": {},
   "source": [
    "## Normalising the dataset so the assumption of normality can be achieved"
   ]
  },
  {
   "cell_type": "code",
   "execution_count": null,
   "id": "882550ae",
   "metadata": {},
   "outputs": [],
   "source": [
    "norm_x = normalize(new_x , norm ='l1')\n",
    "print(norm_x.shape, y.shape)"
   ]
  },
  {
   "cell_type": "markdown",
   "id": "1f71ad80",
   "metadata": {},
   "source": [
    "#### Model development "
   ]
  },
  {
   "cell_type": "code",
   "execution_count": null,
   "id": "b27015e4",
   "metadata": {},
   "outputs": [],
   "source": [
    "x_train,x_test, y_train,y_test = train_test_split(norm_x, y, test_size = .3, random_state = 43, stratify = y)\n",
    "print(x_train.shape, x_test.shape,y_test.shape, y_train.shape)"
   ]
  },
  {
   "cell_type": "code",
   "execution_count": null,
   "id": "9136120d",
   "metadata": {},
   "outputs": [],
   "source": [
    "w_train = compute_sample_weight('balanced', y_train)"
   ]
  },
  {
   "cell_type": "code",
   "execution_count": null,
   "id": "b8328ce9",
   "metadata": {},
   "outputs": [],
   "source": [
    "from sklearn.tree import DecisionTreeClassifier"
   ]
  },
  {
   "cell_type": "code",
   "execution_count": null,
   "id": "ab451b79",
   "metadata": {},
   "outputs": [],
   "source": [
    "dt = DecisionTreeClassifier(max_depth = 4, random_state=35)"
   ]
  },
  {
   "cell_type": "code",
   "execution_count": null,
   "id": "d1d1a238",
   "metadata": {},
   "outputs": [],
   "source": [
    "dt.fit(x_train,y_train, sample_weight = w_train)\n"
   ]
  },
  {
   "cell_type": "code",
   "execution_count": null,
   "id": "fb8c3483",
   "metadata": {},
   "outputs": [],
   "source": [
    "from snapml import DecisionTreeClassifier\n",
    "s_dt = DecisionTreeClassifier(max_depth =4, random_state = 45, n_jobs = 4)\n",
    "s_dt.fit(x_train, y_train, sample_weight = w_train)\n",
    "\n",
    "sklearn_pred = dt.predict_proba(x_test)[:,1]\n",
    "snapml_pred = s_dt.predict_proba(x_test)[:,1]"
   ]
  },
  {
   "cell_type": "code",
   "execution_count": null,
   "id": "d92811b7",
   "metadata": {},
   "outputs": [],
   "source": [
    "sklearn_roc_auc = roc_auc_score(y_test, sklearn_pred)\n",
    "print('[Scikit-Learn] ROC-AUC score : {0:.3f}'.format(sklearn_roc_auc))\n",
    "\n",
    "snapml_roc_auc = roc_auc_score(y_test, snapml_pred)   \n",
    "print('[Snap ML] ROC-AUC score : {0:.3f}'.format(snapml_roc_auc))"
   ]
  },
  {
   "cell_type": "code",
   "execution_count": null,
   "id": "be0ac374",
   "metadata": {},
   "outputs": [],
   "source": [
    "from snapml import SupportVectorMachine"
   ]
  },
  {
   "cell_type": "code",
   "execution_count": null,
   "id": "efc8cce0",
   "metadata": {},
   "outputs": [],
   "source": [
    "snapml_svm = SupportVectorMachine(class_weight='balanced', random_state=25, n_jobs=4, fit_intercept=False)\n",
    "print(snapml_svm.get_params())"
   ]
  },
  {
   "cell_type": "code",
   "execution_count": null,
   "id": "76291615",
   "metadata": {},
   "outputs": [],
   "source": [
    "model = snapml_svm.fit(x_train, y_train)"
   ]
  },
  {
   "cell_type": "code",
   "execution_count": null,
   "id": "1281f82a",
   "metadata": {},
   "outputs": [],
   "source": [
    "#sklearn_pred = sklearn_svm.decision_function(x_test)\n",
    "snapml_pred = snapml_svm.decision_function(x_test)"
   ]
  },
  {
   "cell_type": "code",
   "execution_count": null,
   "id": "8518c25c",
   "metadata": {},
   "outputs": [],
   "source": [
    "acc_sklearn  = roc_auc_score(y_test, sklearn_pred)\n",
    "print(\"[Scikit-Learn] ROC-AUC score:   {0:.3f}\".format(acc_sklearn))\n",
    "\n",
    "acc_snapml  = roc_auc_score(y_test, snapml_pred)\n",
    "print(\"[Snap ML] ROC-AUC score:   {0:.3f}\".format(acc_snapml))"
   ]
  },
  {
   "cell_type": "code",
   "execution_count": null,
   "id": "b7ebdc03",
   "metadata": {},
   "outputs": [],
   "source": []
  }
 ],
 "metadata": {
  "kernelspec": {
   "display_name": "Python 3 (ipykernel)",
   "language": "python",
   "name": "python3"
  },
  "language_info": {
   "codemirror_mode": {
    "name": "ipython",
    "version": 3
   },
   "file_extension": ".py",
   "mimetype": "text/x-python",
   "name": "python",
   "nbconvert_exporter": "python",
   "pygments_lexer": "ipython3",
   "version": "3.10.9"
  }
 },
 "nbformat": 4,
 "nbformat_minor": 5
}
